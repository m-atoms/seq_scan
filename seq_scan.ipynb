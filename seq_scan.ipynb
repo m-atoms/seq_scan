{
 "cells": [
  {
   "cell_type": "code",
   "execution_count": 1,
   "metadata": {},
   "outputs": [],
   "source": [
    "### Parse List of Motifs ###\n",
    "\n",
    "# open motifs.txt and read each line into an array\n",
    "f = open('motifs.txt', 'r')\n",
    "motifs = f.readlines()\n",
    "f.close()\n",
    "\n",
    "# strip newlines from list\n",
    "motifs = [motif.rstrip() for motif in motifs]\n",
    "\n",
    "# replace don't care (x) with regex alphanumeric char (\\w)\n",
    "motifs = [motif.replace(\"x\",\"\\w\") for motif in motifs]"
   ]
  },
  {
   "cell_type": "code",
   "execution_count": 2,
   "metadata": {},
   "outputs": [],
   "source": [
    "### Parse Protein Sequence ###\n",
    "\n",
    "# open sequence.txt and read as string\n",
    "f = open('sequence.txt', 'r')\n",
    "sequence = f.read()\n",
    "f.close()\n",
    "\n",
    "# strip newlines and spaces\n",
    "sequence = sequence.replace(\"\\n\", \"\").replace(\" \", \"\")"
   ]
  },
  {
   "cell_type": "code",
   "execution_count": 3,
   "metadata": {},
   "outputs": [
    {
     "name": "stdout",
     "output_type": "stream",
     "text": [
      "HWQ: 2-5\n",
      "LRS: 59-62\n",
      "LLS: 73-76\n",
      "PAL: 65-68\n",
      "YAM: 115-118\n",
      "[(2, 5), (59, 62), (73, 76), (65, 68), (115, 118)]\n"
     ]
    }
   ],
   "source": [
    "### Search Sequence for Motifs ###\n",
    "import re\n",
    "\n",
    "# find all matches of each motif with regex + list comp\n",
    "motifs_matched = [re.finditer(motif, sequence) for motif in motifs]\n",
    "\n",
    "# create an array of index pairs for each match of each motif\n",
    "match_idxs = []\n",
    "for motif in motifs_matched:\n",
    "    for matches in motif:\n",
    "        print(\"{}: {}-{}\".format(matches.group(), matches.start(), matches.end()))\n",
    "        match_idxs.append((matches.start(), (matches.end())))\n",
    "print(match_idxs)"
   ]
  },
  {
   "cell_type": "code",
   "execution_count": 4,
   "metadata": {},
   "outputs": [
    {
     "name": "stdout",
     "output_type": "stream",
     "text": [
      "MF<strong>H</strong><strong>W</strong><strong>Q</strong>ATIMGPNDSPYQGGVFFLTIHFPTDYPFKPPKVAFTTRIYHPNINSNGSICLDI<strong>L</strong><strong>R</strong><strong>S</strong>QWS<strong>P</strong><strong>A</strong><strong>L</strong>TISKV<strong>L</strong><strong>L</strong><strong>S</strong>ICSLLCDPNPDDPLVPEIARIYKTDREKYNRIAREWTQK<strong>Y</strong><strong>A</strong><strong>M</strong>\n"
     ]
    }
   ],
   "source": [
    "### Generate HTML with Matches Tagged ###\n",
    "\n",
    "# import tag insert function from support file\n",
    "from seq_scan import insert_tags\n",
    "\n",
    "# iterate over index range of each motif match, build output html iteratively\n",
    "seq_tagd = sequence\n",
    "for match in match_idxs:\n",
    "    for idx in range(match[0], match[1]):\n",
    "        # insert tags around each character of each motif match\n",
    "        seq_tagd = insert_tags(idx, seq_tagd)\n",
    "print(seq_tagd)"
   ]
  },
  {
   "cell_type": "code",
   "execution_count": null,
   "metadata": {
    "jupyter": {
     "source_hidden": true
    }
   },
   "outputs": [],
   "source": [
    "#split sequence into groups of 50\n",
    "#seq_seg = re.finditer(\".{1,10}\", sequence)\n",
    "\n",
    "#seq_seg = re.finditer(\"[A-Z]{1,10}\"\", seq_tagd)\n",
    "\n",
    "#print(\"0\")\n",
    "#for idx, seg in enumerate(seq_seg):\n",
    "#    print(\"{} \".format(seg.group()), end='')\n",
    "    \n",
    "#    if idx > 0 and (idx+1) % 5 == 0:\n",
    "#        print(\"\\n{}\".format((idx+1) * 10))"
   ]
  }
 ],
 "metadata": {
  "kernelspec": {
   "display_name": "Python 3",
   "language": "python",
   "name": "python3"
  },
  "language_info": {
   "codemirror_mode": {
    "name": "ipython",
    "version": 3
   },
   "file_extension": ".py",
   "mimetype": "text/x-python",
   "name": "python",
   "nbconvert_exporter": "python",
   "pygments_lexer": "ipython3",
   "version": "3.8.2"
  }
 },
 "nbformat": 4,
 "nbformat_minor": 4
}
