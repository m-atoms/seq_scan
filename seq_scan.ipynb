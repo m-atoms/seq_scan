{
 "cells": [
  {
   "cell_type": "code",
   "execution_count": null,
   "metadata": {},
   "outputs": [],
   "source": [
    "import re\n",
    "p = re.compile(motif) # creating pattern obj and calling its functions\n",
    "m = re.finditer(motif, seq) # using top level re functions\n",
    "mm = re.finditer(motif.replace(\"x\",\"\\w\"), seq) # using top level re functions with check for don't cares\n",
    "print(mm)\n",
    "\n",
    "for match in mm:\n",
    "    print(match.start())"
   ]
  }
 ],
 "metadata": {
  "kernelspec": {
   "display_name": "Python 3",
   "language": "python",
   "name": "python3"
  },
  "language_info": {
   "codemirror_mode": {
    "name": "ipython",
    "version": 3
   },
   "file_extension": ".py",
   "mimetype": "text/x-python",
   "name": "python",
   "nbconvert_exporter": "python",
   "pygments_lexer": "ipython3",
   "version": "3.8.2"
  }
 },
 "nbformat": 4,
 "nbformat_minor": 4
}
