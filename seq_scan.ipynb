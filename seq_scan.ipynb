{
 "cells": [
  {
   "cell_type": "code",
   "execution_count": 13,
   "metadata": {},
   "outputs": [],
   "source": [
    "### Parse List of Motifs ###\n",
    "\n",
    "# open motifs.txt and read each line into an array\n",
    "f = open('motifs.txt', 'r')\n",
    "motifs = f.readlines()\n",
    "f.close()\n",
    "\n",
    "# strip newlines from list\n",
    "motifs = [motif.rstrip() for motif in motifs]\n",
    "\n",
    "# replace don't care (x) with regex alphanumeric char (\\w)\n",
    "motifs = [motif.replace(\"x\",\"\\w\") for motif in motifs]"
   ]
  },
  {
   "cell_type": "code",
   "execution_count": 14,
   "metadata": {},
   "outputs": [],
   "source": [
    "### Parse Protein Sequence ###\n",
    "\n",
    "# open sequence.txt and read as string\n",
    "f = open('sequence.txt', 'r')\n",
    "sequence = f.read()\n",
    "f.close()\n",
    "\n",
    "# strip newlines and spaces\n",
    "sequence = sequence.replace(\"\\n\", \"\").replace(\" \", \"\")"
   ]
  },
  {
   "cell_type": "code",
   "execution_count": 18,
   "metadata": {},
   "outputs": [
    {
     "name": "stdout",
     "output_type": "stream",
     "text": [
      "LRS: 59\n",
      "LLS: 73\n",
      "PAL: 65\n",
      "LL: 73\n",
      "LL: 79\n"
     ]
    }
   ],
   "source": [
    "import re\n",
    "\n",
    "motifs_matched = [re.finditer(motif, sequence) for motif in motifs]\n",
    "#mm = re.finditer(motif.replace(\"x\",\"\\w\"), seq) # using top level re functions with check for don't cares\n",
    "\n",
    "for motif in motifs_matched:\n",
    "    for matches in motif:\n",
    "        print(\"{}: {}\".format(matches.group(), matches.start()))"
   ]
  },
  {
   "cell_type": "code",
   "execution_count": null,
   "metadata": {},
   "outputs": [],
   "source": []
  }
 ],
 "metadata": {
  "kernelspec": {
   "display_name": "Python 3",
   "language": "python",
   "name": "python3"
  },
  "language_info": {
   "codemirror_mode": {
    "name": "ipython",
    "version": 3
   },
   "file_extension": ".py",
   "mimetype": "text/x-python",
   "name": "python",
   "nbconvert_exporter": "python",
   "pygments_lexer": "ipython3",
   "version": "3.8.2"
  }
 },
 "nbformat": 4,
 "nbformat_minor": 4
}
