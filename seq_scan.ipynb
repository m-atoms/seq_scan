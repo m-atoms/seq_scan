{
 "cells": [
  {
   "cell_type": "code",
   "execution_count": null,
   "metadata": {},
   "outputs": [],
   "source": [
    "### Parse List of Motifs ###\n",
    "\n",
    "# open motifs.txt and read each line into an array\n",
    "f = open('motifs.txt', 'r')\n",
    "motifs = f.readlines()\n",
    "f.close()\n",
    "\n",
    "# strip newlines from list\n",
    "motifs = [motif.rstrip() for motif in motifs]\n",
    "\n",
    "# replace don't care (x) with regex alphanumeric char (\\w)\n",
    "motifs = [motif.replace(\"x\",\"\\w\") for motif in motifs]"
   ]
  },
  {
   "cell_type": "code",
   "execution_count": null,
   "metadata": {},
   "outputs": [],
   "source": [
    "### Parse Protein Sequence ###\n",
    "\n",
    "# open sequence.txt and read as string\n",
    "f = open('sequence.txt', 'r')\n",
    "sequence = f.read()\n",
    "f.close()\n",
    "\n",
    "# strip newlines and spaces\n",
    "sequence = sequence.replace(\"\\n\", \"\").replace(\" \", \"\")"
   ]
  },
  {
   "cell_type": "code",
   "execution_count": null,
   "metadata": {},
   "outputs": [],
   "source": [
    "### Search Sequence for Motifs ###\n",
    "import re\n",
    "\n",
    "# find all matches of each motif with regex + list comp\n",
    "motifs_matched = [re.finditer(motif, sequence) for motif in motifs]\n",
    "\n",
    "# create an array of index pairs for each match of each motif\n",
    "match_idxs = []\n",
    "for motif in motifs_matched:\n",
    "    for matches in motif:\n",
    "        print(\"{}: {}-{}\".format(matches.group(), matches.start(), matches.end()))\n",
    "        match_idxs.append((matches.start(), (matches.end())))"
   ]
  },
  {
   "cell_type": "code",
   "execution_count": null,
   "metadata": {},
   "outputs": [],
   "source": [
    "### Generate HTML with Matches Tagged ###\n",
    "\n",
    "# import tag insert function from support file\n",
    "from seq_scan import insert_tags\n",
    "\n",
    "# iterate over index range of each motif match, build output html iteratively\n",
    "seq_tagd = sequence\n",
    "for match in match_idxs:\n",
    "    for idx in range(match[0], match[1]):\n",
    "        # insert tags around each character of each motif match\n",
    "        seq_tagd = insert_tags(idx, seq_tagd)"
   ]
  },
  {
   "cell_type": "code",
   "execution_count": null,
   "metadata": {},
   "outputs": [],
   "source": [
    "### Parse Tagged Sequence into Groups for HTML Table ###\n",
    "\n",
    "# import custom sequence split function from support file\n",
    "from seq_scan import split\n",
    "\n",
    "# split sequence into segments of 10 uppercase letters, including any tags in between\n",
    "seq_seg = split(10, seq_tagd)"
   ]
  },
  {
   "cell_type": "code",
   "execution_count": null,
   "metadata": {},
   "outputs": [],
   "source": [
    "### Generate HTML File to Display Sequence ###\n",
    "\n",
    "# import sys and HTML generation function from support file\n",
    "import sys\n",
    "from seq_scan import html_gen\n",
    "\n",
    "# open output file and hijack stdout\n",
    "sys.stdout = open('matches.html','w')\n",
    "\n",
    "# hide all the prints behind a pretty function call\n",
    "html_gen(seq_seg)"
   ]
  }
 ],
 "metadata": {
  "kernelspec": {
   "display_name": "Python 3",
   "language": "python",
   "name": "python3"
  },
  "language_info": {
   "codemirror_mode": {
    "name": "ipython",
    "version": 3
   },
   "file_extension": ".py",
   "mimetype": "text/x-python",
   "name": "python",
   "nbconvert_exporter": "python",
   "pygments_lexer": "ipython3",
   "version": "3.8.2"
  }
 },
 "nbformat": 4,
 "nbformat_minor": 4
}
